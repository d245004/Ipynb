{
 "cells": [
  {
   "cell_type": "code",
   "execution_count": null,
   "metadata": {},
   "outputs": [],
   "source": [
    "# 송둘라 판매건 입력 처리하기\n",
    "# 이 간단한 code 만지는데 이틀이 꼬박걸렸다. 잊어버리지 말자\n",
    "\n",
    "import openpyxl\n",
    "import pandas as pd\n",
    "\n",
    "db = pd.read_excel(\"C://Users//hanyang//Downloads//song_sale.xls\")\n",
    "\n",
    "db.to_excel(\"C://Users//hanyang//Downloads//song_sale.xlsx\")\n",
    "\n",
    "wb1 = openpyxl.load_workbook(\"C://Users//hanyang//Downloads//song_sale.xlsx\")\n",
    "\n",
    "wb2 = openpyxl.load_workbook(\"C://Users//hanyang//OneDrive - 오토넷//하드 자료//다운로드//eCount 자료입력.xlsx\")\n",
    "\n",
    "ws1 = wb1.active\n",
    "\n",
    "ws2 =wb2['구매입력']\n",
    "ws3 =wb2['품목 등록']\n",
    "ws4 =wb2['판매입력']\n",
    "\n",
    "aa = 2\n",
    "for row in ws1.iter_rows(min_row=12):\n",
    "    part = row[7].value\n",
    "    partname = row[8].value\n",
    "    qty = row[9].value\n",
    "    dan_price = row[11].value\n",
    "    hap_price = row[12].value\n",
    "    sangho = row[20].value\n",
    "\n",
    "    ws2['J'+str(aa)].value = part\n",
    "    ws2['K'+str(aa)].value = partname\n",
    "    ws2['M'+str(aa)].value = qty\n",
    "    ws2['N'+str(aa)].value = dan_price\n",
    "    ws2['P'+str(aa)].value = hap_price\n",
    "    ws2['C'+str(aa)].value = '00001'\n",
    "\n",
    "    ws3['A'+str(aa)].value = part\n",
    "    ws3['B'+str(aa)].value = partname \n",
    "    ws3['J'+str(aa)].value = dan_price\n",
    "    ws3['L'+str(aa)].value = dan_price\n",
    "\n",
    "    ws4['C'+str(aa)].value = sangho[0:5] \n",
    "    ws4['K'+str(aa)].value = part\n",
    "    ws4['L'+str(aa)].value = partname\n",
    "    ws4['M'+str(aa)].value = qty\n",
    "    ws4['N'+str(aa)].value = dan_price\n",
    "    ws4['P'+str(aa)].value = hap_price\n",
    "\n",
    "    # print(part,partname,qty,dan_price,hap_price,sangho)\n",
    "    aa +=1\n",
    "wb2.save(\"C://Users//hanyang//OneDrive - 오토넷//하드 자료//다운로드//eCount 자료입력 Data.xlsx\")\n",
    "\n",
    "print('작업 완료 했습니다.')"
   ]
  }
 ],
 "metadata": {
  "kernelspec": {
   "display_name": "Python 3",
   "language": "python",
   "name": "python3"
  },
  "language_info": {
   "codemirror_mode": {
    "name": "ipython",
    "version": 3
   },
   "file_extension": ".py",
   "mimetype": "text/x-python",
   "name": "python",
   "nbconvert_exporter": "python",
   "pygments_lexer": "ipython3",
   "version": "3.8.5-final"
  },
  "orig_nbformat": 2
 },
 "nbformat": 4,
 "nbformat_minor": 2
}
