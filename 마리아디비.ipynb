{
 "cells": [
  {
   "cell_type": "code",
   "execution_count": null,
   "metadata": {},
   "outputs": [],
   "source": [
    "import sys\n",
    "import mariadb\n",
    " \n",
    " \n",
    "def mariaDbConnection(u, pw, h, p, d):\n",
    "    try:\n",
    "        conn = mariadb.connect(user = u, password = pw, host = h, port = p, database = d)\n",
    "        print(\"DB Connection Success: {0}\".format(h))\n",
    "    except mariadb.Error as e:\n",
    "        print(\"Error connecting to MariaDB Platform : {}\".format(e))\n",
    "        sys.exit(1)\n",
    " \n",
    "    return conn\n",
    " \n",
    " \n",
    "def mariaDbClose(c):\n",
    "    try:\n",
    "        c.close()\n",
    "        print(\"DB Close Success\")\n",
    "    except mariadb.Error as e:\n",
    "        print(\"Error closing from MariaDB Platform\")\n",
    "        sys.exit(1)"
   ]
  },
  {
   "cell_type": "code",
   "execution_count": null,
   "metadata": {},
   "outputs": [],
   "source": [
    "import mariadbQuery\n",
    "import pandas as pd\n",
    " \n",
    " \n",
    "dbConn = mariadbQuery.mariaDbConnection('root', '1234', \"127.0.0.1\", 3307, 'tax')\n",
    "cur = dbConn.cursor()\n",
    " \n",
    "readData = pd.read_excel(\"./sample.xlsx\")\n",
    " \n",
    "for i in readData.index:\n",
    "    query = \"INSERT INTO example VALUES ('{0}', '{1}', '{2}', {3})\".format(readData['Nation'][i], readData['Language'][i], readData['Money'][i], int(readData['Population'][i]))\n",
    "    cur.execute(query)\n",
    " \n",
    "dbConn.commit()\n",
    " \n",
    "mariadbQuery.mariaDbClose(dbConn)\n",
    " "
   ]
  }
 ],
 "metadata": {
  "kernelspec": {
   "display_name": "Python 3.10.4 64-bit",
   "language": "python",
   "name": "python3"
  },
  "language_info": {
   "name": "python",
   "version": "3.10.4"
  },
  "orig_nbformat": 4,
  "vscode": {
   "interpreter": {
    "hash": "a0b9a109f10ae1afb02685aaf3678d13d92f0d5ccf7e8dc213badda96e23762b"
   }
  }
 },
 "nbformat": 4,
 "nbformat_minor": 2
}
