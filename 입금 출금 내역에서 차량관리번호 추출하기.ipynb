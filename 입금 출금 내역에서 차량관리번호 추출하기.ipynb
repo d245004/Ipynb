{
 "cells": [
  {
   "cell_type": "code",
   "execution_count": 2,
   "metadata": {},
   "outputs": [],
   "source": [
    "import pandas as pd\n",
    "import os\n",
    "from numpy import NaN,NAN,nan\n",
    "import openpyxl\n",
    "d_path = \"C:/Users/Jaeri/Downloads/\"\n",
    "\n",
    "\n",
    "df_vat = pd.read_excel(d_path+\"입금 출금 내역(2019-08-04(9_39_32)).xls\",header=13)\n",
    "df_vat = df_vat[['일자','차량관리번호','현금','할인']]\n",
    "\n",
    "# 금액이 0원이하면 삭제\n",
    "df_vat = df_vat[df_vat.현금 > 0]                                          \n",
    "\n",
    "# 미수금액이 5,000원 이하면 삭제 \n",
    "df_vat = df_vat[df_vat.할인 > 5000]                                       \n",
    "\n",
    "# 수금비율이 94% 미만이면 삭제  \n",
    "df_vat = df_vat[(df_vat.할인/(df_vat.현금+df_vat.할인)) > 0.06]           \n",
    "\n",
    "# 차량관리번호가 공란일 경우 삭제\n",
    "df_vat = df_vat.dropna(how='any')                                                                            \n",
    "\n",
    "# 차량관리번호가 중복 될 경우 마지막 데이타를 남기고 중복 제거\n",
    "df_vat = df_vat.drop_duplicates('차량관리번호', keep='last')\n",
    "\n",
    "# 새로운 필드를 만든다\n",
    "# 수식으로 만듬\n",
    "df_vat['%'] = (1-(df_vat.할인/(df_vat.현금+df_vat.할인)))*100\n",
    "\n",
    "df_vat['관리1'] = df_vat['차량관리번호'].str[:6]          # 앞의 6자리 문자열 추출\n",
    "df_vat['관리2'] = df_vat['차량관리번호'].str[-5:]         # 뒤의 5자리 문자열 추출\n",
    "\n",
    "# 소숫점 이하는 안보이게\n",
    "pd.options.display.float_format = '{:.0f}'.format\n",
    "\n",
    "df_vat\n",
    "\n",
    "df_vat.to_excel(d_path+\"HT11.xlsx\")\n",
    "\n"
   ]
  }
 ],
 "metadata": {
  "kernelspec": {
   "display_name": "Python 3",
   "language": "python",
   "name": "python3"
  },
  "language_info": {
   "codemirror_mode": {
    "name": "ipython",
    "version": 3
   },
   "file_extension": ".py",
   "mimetype": "text/x-python",
   "name": "python",
   "nbconvert_exporter": "python",
   "pygments_lexer": "ipython3",
   "version": "3.7.3"
  }
 },
 "nbformat": 4,
 "nbformat_minor": 2
}
