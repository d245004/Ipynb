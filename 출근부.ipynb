{
 "cells": [
  {
   "cell_type": "code",
   "execution_count": 1,
   "metadata": {},
   "outputs": [],
   "source": [
    "# 출근부 데이타 추출 완성본\n",
    "import pandas as pd\n",
    "df = pd.read_csv(\"C:/Users/Jaeri/Downloads/11월 출근 리스트.csv\",encoding='cp949')\n",
    "df = df[(df['출근판정']=='결근') | (df['출근판정'] =='지각') | (df['퇴근판정']=='조퇴')]\n",
    "df = df[['이름','근무일자','출근판정','퇴근판정','출근시간','퇴근시간','지각시간']]\n",
    "df = df.sort_values(by=['이름','근무일자'], axis=0)\n",
    "df.출근시간 = df.출근시간.str[11:]\n",
    "df.퇴근시간 = df.퇴근시간.str[11:]\n",
    "df.근무일자 = df.근무일자.str[5:]\n",
    "df.to_excel('C:/Users/Jaeri/Downloads/11월출근부.xlsx')\n",
    "#df\n"
   ]
  }
 ],
 "metadata": {
  "kernelspec": {
   "display_name": "Python 3",
   "language": "python",
   "name": "python3"
  },
  "language_info": {
   "codemirror_mode": {
    "name": "ipython",
    "version": 3
   },
   "file_extension": ".py",
   "mimetype": "text/x-python",
   "name": "python",
   "nbconvert_exporter": "python",
   "pygments_lexer": "ipython3",
   "version": "3.7.3"
  }
 },
 "nbformat": 4,
 "nbformat_minor": 2
}
