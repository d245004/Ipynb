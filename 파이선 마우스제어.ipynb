{
 "cells": [
  {
   "cell_type": "markdown",
   "metadata": {},
   "source": [
    "# 확장자가 txt인 파일 작업 하기\n"
   ]
  },
  {
   "cell_type": "code",
   "execution_count": null,
   "metadata": {},
   "outputs": [],
   "source": [
    "# 파일 조회하기\n",
    "import os\n",
    "\n",
    "for (path, dir, files) in os.walk(\"D:/한국소설473개/\"):\n",
    "    for filename in files:\n",
    "        ext = os.path.splitext(filename)[-1]\n",
    "        if ext == '.txt':\n",
    "#            print(\"%s/%s\" % (path,filename))\n",
    "            print(\"%s\" % (path))"
   ]
  },
  {
   "cell_type": "code",
   "execution_count": 43,
   "metadata": {},
   "outputs": [],
   "source": [
    "import pyautogui as pag\n",
    "import time\n",
    "\n",
    "aa = 1\n",
    "while True:\n",
    "    pag.click(410,686)\n",
    "    pag.click(233,401)\n",
    "    pag.click((126,137))\n",
    "    pag.typewrite(\"2630035505\")\n",
    "    time.sleep(1)\n",
    "\n",
    "    pag.press('enter')\n",
    "    time.sleep(1)\n",
    "    pag.click(240,343)\n",
    "    time.sleep(1)\n",
    "    pag.click(294,685)\n",
    "    time.sleep(1)\n",
    "    pag.typewrite(\"1\")\n",
    "    time.sleep(1)\n",
    "    pag.press('enter')\n",
    "    time.sleep(1)\n",
    "    pag.press('enter')\n",
    "    time.sleep(0.5)\n",
    "    pag.click(222,417)\n",
    "    aa = aa+1\n",
    "    if aa>5:\n",
    "        break"
   ]
  }
 ],
 "metadata": {
  "kernelspec": {
   "display_name": "Python 3",
   "language": "python",
   "name": "python3"
  },
  "language_info": {
   "codemirror_mode": {
    "name": "ipython",
    "version": 3
   },
   "file_extension": ".py",
   "mimetype": "text/x-python",
   "name": "python",
   "nbconvert_exporter": "python",
   "pygments_lexer": "ipython3",
   "version": "3.7.6"
  }
 },
 "nbformat": 4,
 "nbformat_minor": 2
}
